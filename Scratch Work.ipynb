{
 "cells": [
  {
   "cell_type": "code",
   "execution_count": 17,
   "metadata": {},
   "outputs": [
    {
     "name": "stdout",
     "output_type": "stream",
     "text": [
      "Enter the last name of the desired player: Tatum\n"
     ]
    },
    {
     "data": {
      "text/plain": [
       "{'api': {'status': 200,\n",
       "  'message': 'GET players/lastName/Tatum',\n",
       "  'results': 1,\n",
       "  'filters': ['playerId',\n",
       "   'teamId',\n",
       "   'league',\n",
       "   'country',\n",
       "   'lastName',\n",
       "   'firstName'],\n",
       "  'players': [{'firstName': 'Jayson',\n",
       "    'lastName': 'Tatum',\n",
       "    'teamId': '2',\n",
       "    'yearsPro': '2',\n",
       "    'collegeName': 'Duke',\n",
       "    'country': 'USA',\n",
       "    'playerId': '882',\n",
       "    'dateOfBirth': '1998-03-03',\n",
       "    'affiliation': 'Duke/USA',\n",
       "    'startNba': '2017',\n",
       "    'heightInMeters': '2.03',\n",
       "    'weightInKilograms': '95.3',\n",
       "    'leagues': {'standard': {'jersey': '0', 'active': '1', 'pos': 'F-G'}}}]}}"
      ]
     },
     "execution_count": 17,
     "metadata": {},
     "output_type": "execute_result"
    }
   ],
   "source": [
    "import requests\n",
    "import json\n",
    "import matplotlib.pyplot as plt\n",
    "\n",
    "headers = {\n",
    "    \"x-rapidapi-host\": \"api-nba-v1.p.rapidapi.com\",\n",
    "    \"x-rapidapi-key\": \"61ec54c2e9msh0578e0c47cbfd23p1259fcjsnd75b76f6144c\"\n",
    "}\n",
    "\n",
    "playerLastName = input(\"Enter the last name of the desired player: \") \n",
    "\n",
    "playerInfo = requests.get(\"https://api-nba-v1.p.rapidapi.com/players/lastName/\"+playerLastName, headers=headers).json()\n",
    "\n",
    "while playerInfo[\"api\"][\"results\"] == 0:\n",
    "    playerLastName = input(\"Enter a valid last name: \") \n",
    "    playerInfo = requests.get(\"https://api-nba-v1.p.rapidapi.com/players/lastName/\"+playerLastName, headers=headers).json()\n",
    "\n",
    "playerInfo"
   ]
  },
  {
   "cell_type": "code",
   "execution_count": 26,
   "metadata": {},
   "outputs": [
    {
     "ename": "InvalidSchema",
     "evalue": "No connection adapters were found for '{'api': {'status': 200, 'message': 'GET players/lastName/James', 'results': 4, 'filters': ['playerId', 'teamId', 'league', 'country', 'lastName', 'firstName'], 'players': [{'firstName': 'LeBron', 'lastName': 'James', 'teamId': '17', 'yearsPro': '16', 'collegeName': 'No College', 'country': 'USA', 'playerId': '265', 'dateOfBirth': '1984-12-30', 'affiliation': 'St. Vincent-St. Mary HS (OH)/USA', 'startNba': '2003', 'heightInMeters': '2.06', 'weightInKilograms': '113.4', 'leagues': {'standard': {'jersey': '23', 'active': '1', 'pos': 'F'}}}, {'firstName': 'Justin', 'lastName': 'James', 'teamId': '30', 'yearsPro': '0', 'collegeName': 'Wyoming', 'country': 'USA', 'playerId': '1869', 'dateOfBirth': '1997-01-24', 'affiliation': ' USA/USA', 'startNba': '2019', 'heightInMeters': '2.01', 'weightInKilograms': '86.2', 'leagues': {'standard': {'jersey': '10', 'active': '1', 'pos': 'G-F'}, 'vegas': {'jersey': '0', 'active': '1', 'pos': 'G'}}}, {'firstName': 'Justin', 'lastName': 'James', 'teamId': '30', 'yearsPro': '0', 'collegeName': 'Wyoming', 'country': '', 'playerId': '2072', 'dateOfBirth': '1997-01-24', 'affiliation': 'Wyoming', 'startNba': '0', 'heightInMeters': '2.01', 'weightInKilograms': '83.0', 'leagues': {'sacramento': {'jersey': '0', 'active': '1', 'pos': 'G'}}}, {'firstName': 'Young', 'lastName': 'James', 'teamId': None, 'yearsPro': '0', 'collegeName': '', 'country': '', 'playerId': '2522', 'dateOfBirth': '', 'affiliation': '', 'startNba': '0', 'heightInMeters': '', 'weightInKilograms': '', 'leagues': {'standard': {'jersey': '1', 'active': '0', 'pos': ''}}}]}}'",
     "output_type": "error",
     "traceback": [
      "\u001b[0;31m---------------------------------------------------------------------------\u001b[0m",
      "\u001b[0;31mInvalidSchema\u001b[0m                             Traceback (most recent call last)",
      "\u001b[0;32m<ipython-input-26-6a08aeb62837>\u001b[0m in \u001b[0;36m<module>\u001b[0;34m\u001b[0m\n\u001b[1;32m      7\u001b[0m \u001b[0;34m\u001b[0m\u001b[0m\n\u001b[1;32m      8\u001b[0m \u001b[0murl\u001b[0m \u001b[0;34m=\u001b[0m \u001b[0mrequests\u001b[0m\u001b[0;34m.\u001b[0m\u001b[0mget\u001b[0m\u001b[0;34m(\u001b[0m\u001b[0;34m\"https://api-nba-v1.p.rapidapi.com/players/lastName/\"\u001b[0m\u001b[0;34m+\u001b[0m\u001b[0mplayerLastName\u001b[0m\u001b[0;34m,\u001b[0m \u001b[0mheaders\u001b[0m\u001b[0;34m=\u001b[0m\u001b[0mheaders\u001b[0m\u001b[0;34m)\u001b[0m\u001b[0;34m.\u001b[0m\u001b[0mjson\u001b[0m\u001b[0;34m(\u001b[0m\u001b[0;34m)\u001b[0m\u001b[0;34m\u001b[0m\u001b[0;34m\u001b[0m\u001b[0m\n\u001b[0;32m----> 9\u001b[0;31m \u001b[0mr\u001b[0m \u001b[0;34m=\u001b[0m \u001b[0mrequests\u001b[0m\u001b[0;34m.\u001b[0m\u001b[0mget\u001b[0m\u001b[0;34m(\u001b[0m\u001b[0murl\u001b[0m\u001b[0;34m)\u001b[0m\u001b[0;34m\u001b[0m\u001b[0;34m\u001b[0m\u001b[0m\n\u001b[0m\u001b[1;32m     10\u001b[0m \u001b[0mprint\u001b[0m\u001b[0;34m(\u001b[0m\u001b[0mr\u001b[0m\u001b[0;34m.\u001b[0m\u001b[0mtext\u001b[0m\u001b[0;34m)\u001b[0m\u001b[0;34m\u001b[0m\u001b[0;34m\u001b[0m\u001b[0m\n\u001b[1;32m     11\u001b[0m \u001b[0;31m# =pd.read_csv(url)\u001b[0m\u001b[0;34m\u001b[0m\u001b[0;34m\u001b[0m\u001b[0;34m\u001b[0m\u001b[0m\n",
      "\u001b[0;32m/opt/conda/lib/python3.7/site-packages/requests/api.py\u001b[0m in \u001b[0;36mget\u001b[0;34m(url, params, **kwargs)\u001b[0m\n\u001b[1;32m     73\u001b[0m \u001b[0;34m\u001b[0m\u001b[0m\n\u001b[1;32m     74\u001b[0m     \u001b[0mkwargs\u001b[0m\u001b[0;34m.\u001b[0m\u001b[0msetdefault\u001b[0m\u001b[0;34m(\u001b[0m\u001b[0;34m'allow_redirects'\u001b[0m\u001b[0;34m,\u001b[0m \u001b[0;32mTrue\u001b[0m\u001b[0;34m)\u001b[0m\u001b[0;34m\u001b[0m\u001b[0;34m\u001b[0m\u001b[0m\n\u001b[0;32m---> 75\u001b[0;31m     \u001b[0;32mreturn\u001b[0m \u001b[0mrequest\u001b[0m\u001b[0;34m(\u001b[0m\u001b[0;34m'get'\u001b[0m\u001b[0;34m,\u001b[0m \u001b[0murl\u001b[0m\u001b[0;34m,\u001b[0m \u001b[0mparams\u001b[0m\u001b[0;34m=\u001b[0m\u001b[0mparams\u001b[0m\u001b[0;34m,\u001b[0m \u001b[0;34m**\u001b[0m\u001b[0mkwargs\u001b[0m\u001b[0;34m)\u001b[0m\u001b[0;34m\u001b[0m\u001b[0;34m\u001b[0m\u001b[0m\n\u001b[0m\u001b[1;32m     76\u001b[0m \u001b[0;34m\u001b[0m\u001b[0m\n\u001b[1;32m     77\u001b[0m \u001b[0;34m\u001b[0m\u001b[0m\n",
      "\u001b[0;32m/opt/conda/lib/python3.7/site-packages/requests/api.py\u001b[0m in \u001b[0;36mrequest\u001b[0;34m(method, url, **kwargs)\u001b[0m\n\u001b[1;32m     58\u001b[0m     \u001b[0;31m# cases, and look like a memory leak in others.\u001b[0m\u001b[0;34m\u001b[0m\u001b[0;34m\u001b[0m\u001b[0;34m\u001b[0m\u001b[0m\n\u001b[1;32m     59\u001b[0m     \u001b[0;32mwith\u001b[0m \u001b[0msessions\u001b[0m\u001b[0;34m.\u001b[0m\u001b[0mSession\u001b[0m\u001b[0;34m(\u001b[0m\u001b[0;34m)\u001b[0m \u001b[0;32mas\u001b[0m \u001b[0msession\u001b[0m\u001b[0;34m:\u001b[0m\u001b[0;34m\u001b[0m\u001b[0;34m\u001b[0m\u001b[0m\n\u001b[0;32m---> 60\u001b[0;31m         \u001b[0;32mreturn\u001b[0m \u001b[0msession\u001b[0m\u001b[0;34m.\u001b[0m\u001b[0mrequest\u001b[0m\u001b[0;34m(\u001b[0m\u001b[0mmethod\u001b[0m\u001b[0;34m=\u001b[0m\u001b[0mmethod\u001b[0m\u001b[0;34m,\u001b[0m \u001b[0murl\u001b[0m\u001b[0;34m=\u001b[0m\u001b[0murl\u001b[0m\u001b[0;34m,\u001b[0m \u001b[0;34m**\u001b[0m\u001b[0mkwargs\u001b[0m\u001b[0;34m)\u001b[0m\u001b[0;34m\u001b[0m\u001b[0;34m\u001b[0m\u001b[0m\n\u001b[0m\u001b[1;32m     61\u001b[0m \u001b[0;34m\u001b[0m\u001b[0m\n\u001b[1;32m     62\u001b[0m \u001b[0;34m\u001b[0m\u001b[0m\n",
      "\u001b[0;32m/opt/conda/lib/python3.7/site-packages/requests/sessions.py\u001b[0m in \u001b[0;36mrequest\u001b[0;34m(self, method, url, params, data, headers, cookies, files, auth, timeout, allow_redirects, proxies, hooks, stream, verify, cert, json)\u001b[0m\n\u001b[1;32m    531\u001b[0m         }\n\u001b[1;32m    532\u001b[0m         \u001b[0msend_kwargs\u001b[0m\u001b[0;34m.\u001b[0m\u001b[0mupdate\u001b[0m\u001b[0;34m(\u001b[0m\u001b[0msettings\u001b[0m\u001b[0;34m)\u001b[0m\u001b[0;34m\u001b[0m\u001b[0;34m\u001b[0m\u001b[0m\n\u001b[0;32m--> 533\u001b[0;31m         \u001b[0mresp\u001b[0m \u001b[0;34m=\u001b[0m \u001b[0mself\u001b[0m\u001b[0;34m.\u001b[0m\u001b[0msend\u001b[0m\u001b[0;34m(\u001b[0m\u001b[0mprep\u001b[0m\u001b[0;34m,\u001b[0m \u001b[0;34m**\u001b[0m\u001b[0msend_kwargs\u001b[0m\u001b[0;34m)\u001b[0m\u001b[0;34m\u001b[0m\u001b[0;34m\u001b[0m\u001b[0m\n\u001b[0m\u001b[1;32m    534\u001b[0m \u001b[0;34m\u001b[0m\u001b[0m\n\u001b[1;32m    535\u001b[0m         \u001b[0;32mreturn\u001b[0m \u001b[0mresp\u001b[0m\u001b[0;34m\u001b[0m\u001b[0;34m\u001b[0m\u001b[0m\n",
      "\u001b[0;32m/opt/conda/lib/python3.7/site-packages/requests/sessions.py\u001b[0m in \u001b[0;36msend\u001b[0;34m(self, request, **kwargs)\u001b[0m\n\u001b[1;32m    638\u001b[0m \u001b[0;34m\u001b[0m\u001b[0m\n\u001b[1;32m    639\u001b[0m         \u001b[0;31m# Get the appropriate adapter to use\u001b[0m\u001b[0;34m\u001b[0m\u001b[0;34m\u001b[0m\u001b[0;34m\u001b[0m\u001b[0m\n\u001b[0;32m--> 640\u001b[0;31m         \u001b[0madapter\u001b[0m \u001b[0;34m=\u001b[0m \u001b[0mself\u001b[0m\u001b[0;34m.\u001b[0m\u001b[0mget_adapter\u001b[0m\u001b[0;34m(\u001b[0m\u001b[0murl\u001b[0m\u001b[0;34m=\u001b[0m\u001b[0mrequest\u001b[0m\u001b[0;34m.\u001b[0m\u001b[0murl\u001b[0m\u001b[0;34m)\u001b[0m\u001b[0;34m\u001b[0m\u001b[0;34m\u001b[0m\u001b[0m\n\u001b[0m\u001b[1;32m    641\u001b[0m \u001b[0;34m\u001b[0m\u001b[0m\n\u001b[1;32m    642\u001b[0m         \u001b[0;31m# Start time (approximately) of the request\u001b[0m\u001b[0;34m\u001b[0m\u001b[0;34m\u001b[0m\u001b[0;34m\u001b[0m\u001b[0m\n",
      "\u001b[0;32m/opt/conda/lib/python3.7/site-packages/requests/sessions.py\u001b[0m in \u001b[0;36mget_adapter\u001b[0;34m(self, url)\u001b[0m\n\u001b[1;32m    729\u001b[0m \u001b[0;34m\u001b[0m\u001b[0m\n\u001b[1;32m    730\u001b[0m         \u001b[0;31m# Nothing matches :-/\u001b[0m\u001b[0;34m\u001b[0m\u001b[0;34m\u001b[0m\u001b[0;34m\u001b[0m\u001b[0m\n\u001b[0;32m--> 731\u001b[0;31m         \u001b[0;32mraise\u001b[0m \u001b[0mInvalidSchema\u001b[0m\u001b[0;34m(\u001b[0m\u001b[0;34m\"No connection adapters were found for '%s'\"\u001b[0m \u001b[0;34m%\u001b[0m \u001b[0murl\u001b[0m\u001b[0;34m)\u001b[0m\u001b[0;34m\u001b[0m\u001b[0;34m\u001b[0m\u001b[0m\n\u001b[0m\u001b[1;32m    732\u001b[0m \u001b[0;34m\u001b[0m\u001b[0m\n\u001b[1;32m    733\u001b[0m     \u001b[0;32mdef\u001b[0m \u001b[0mclose\u001b[0m\u001b[0;34m(\u001b[0m\u001b[0mself\u001b[0m\u001b[0;34m)\u001b[0m\u001b[0;34m:\u001b[0m\u001b[0;34m\u001b[0m\u001b[0;34m\u001b[0m\u001b[0m\n",
      "\u001b[0;31mInvalidSchema\u001b[0m: No connection adapters were found for '{'api': {'status': 200, 'message': 'GET players/lastName/James', 'results': 4, 'filters': ['playerId', 'teamId', 'league', 'country', 'lastName', 'firstName'], 'players': [{'firstName': 'LeBron', 'lastName': 'James', 'teamId': '17', 'yearsPro': '16', 'collegeName': 'No College', 'country': 'USA', 'playerId': '265', 'dateOfBirth': '1984-12-30', 'affiliation': 'St. Vincent-St. Mary HS (OH)/USA', 'startNba': '2003', 'heightInMeters': '2.06', 'weightInKilograms': '113.4', 'leagues': {'standard': {'jersey': '23', 'active': '1', 'pos': 'F'}}}, {'firstName': 'Justin', 'lastName': 'James', 'teamId': '30', 'yearsPro': '0', 'collegeName': 'Wyoming', 'country': 'USA', 'playerId': '1869', 'dateOfBirth': '1997-01-24', 'affiliation': ' USA/USA', 'startNba': '2019', 'heightInMeters': '2.01', 'weightInKilograms': '86.2', 'leagues': {'standard': {'jersey': '10', 'active': '1', 'pos': 'G-F'}, 'vegas': {'jersey': '0', 'active': '1', 'pos': 'G'}}}, {'firstName': 'Justin', 'lastName': 'James', 'teamId': '30', 'yearsPro': '0', 'collegeName': 'Wyoming', 'country': '', 'playerId': '2072', 'dateOfBirth': '1997-01-24', 'affiliation': 'Wyoming', 'startNba': '0', 'heightInMeters': '2.01', 'weightInKilograms': '83.0', 'leagues': {'sacramento': {'jersey': '0', 'active': '1', 'pos': 'G'}}}, {'firstName': 'Young', 'lastName': 'James', 'teamId': None, 'yearsPro': '0', 'collegeName': '', 'country': '', 'playerId': '2522', 'dateOfBirth': '', 'affiliation': '', 'startNba': '0', 'heightInMeters': '', 'weightInKilograms': '', 'leagues': {'standard': {'jersey': '1', 'active': '0', 'pos': ''}}}]}}'"
     ]
    }
   ],
   "source": [
    "import pandas as pd\n",
    "import numpy as np\n",
    "import requests\n",
    "import warnings\n",
    "warnings.filterwarnings('ignore')\n",
    "\n",
    "\n",
    "url = requests.get(\"https://api-nba-v1.p.rapidapi.com/players/lastName/\"+playerLastName, headers=headers).json()\n",
    "r = requests.get(url)\n",
    "print(r.text)\n",
    "# =pd.read_csv(url)\n"
   ]
  },
  {
   "cell_type": "code",
   "execution_count": 11,
   "metadata": {},
   "outputs": [],
   "source": [
    "playerId = playerInfo[\"api\"][\"players\"][0][\"playerId\"]"
   ]
  },
  {
   "cell_type": "code",
   "execution_count": 32,
   "metadata": {},
   "outputs": [
    {
     "data": {
      "text/plain": [
       "<Response [200]>"
      ]
     },
     "execution_count": 32,
     "metadata": {},
     "output_type": "execute_result"
    }
   ],
   "source": [
    "playerStats = requests.get(\"https://api-nba-v1.p.rapidapi.com/statistics/players/playerId/\" + str(playerId), headers=headers)\n",
    "playerStats"
   ]
  },
  {
   "cell_type": "code",
   "execution_count": 21,
   "metadata": {},
   "outputs": [
    {
     "name": "stdout",
     "output_type": "stream",
     "text": [
      "Enter the last name of the desired player: James\n",
      "Enter the desired statistic: points\n",
      "Enter the desired number of games: 3\n",
      "Average points Per Game: 18.666666666666668\n"
     ]
    },
    {
     "data": {
      "image/png": "[encoded data removed]",
      "text/plain": [
       "<Figure size 432x288 with 1 Axes>"
      ]
     },
     "metadata": {
      "needs_background": "light"
     },
     "output_type": "display_data"
    }
   ],
   "source": [
    "recentGames = playerStats.json()[\"api\"][\"statistics\"] \n",
    "points = []\n",
    "\n",
    "stats = ['points', 'pos', 'min', 'fgm', 'fga', 'fgp', 'ftm', 'fta', 'ftp', 'tpm', 'tpa', 'tpp', 'offReb', 'defReb', 'totReb', 'assists', 'pFouls', 'steals', 'turnovers', 'blocks', 'plusMinus']\n",
    "\n",
    "playerLastName = input(\"Enter the last name of the desired player: \") \n",
    "desiredStat = input(\"Enter the desired statistic: \")\n",
    "while desiredStat not in stats:\n",
    "  desiredStat = input(\"Invalid statistic, reselect: \")\n",
    "\n",
    "numberOfGames = input(\"Enter the desired number of games: \")\n",
    "while numberOfGames.isdigit() and int(numberOfGames) < 1:\n",
    "  numberOfGames = input(\"Number of games must be positive integer, re-enter:\")\n",
    "\n",
    "numberOfGames = int(numberOfGames)\n",
    "\n",
    "for i in range(numberOfGames):\n",
    "  point = recentGames[i][desiredStat]\n",
    "  if point != \"\":\n",
    "    points.append(int(recentGames[i][desiredStat]))\n",
    "\n",
    "plt.plot(points, marker='o')\n",
    "plt.grid()\n",
    "print(\"Average \"+ desiredStat +\" Per Game: \" + str(sum(points) / len(points))) "
   ]
  },
  {
   "cell_type": "code",
   "execution_count": 2,
   "metadata": {},
   "outputs": [
    {
     "name": "stdout",
     "output_type": "stream",
     "text": [
      "Collecting nba-api\n",
      "\u001b[?25l  Downloading https://files.pythonhosted.org/packages/98/bc/f701f6f7c79354419107e2534d22ed27bac7de9a6c2d85ab73f87bc140a9/nba_api-1.1.5-py3-none-any.whl (215kB)\n",
      "\u001b[K     |████████████████████████████████| 225kB 5.0MB/s eta 0:00:01\n",
      "\u001b[?25hRequirement already satisfied: requests in /opt/conda/lib/python3.7/site-packages (from nba-api) (2.22.0)\n",
      "Requirement already satisfied: certifi>=2017.4.17 in /opt/conda/lib/python3.7/site-packages (from requests->nba-api) (2019.6.16)\n",
      "Requirement already satisfied: idna<2.9,>=2.5 in /opt/conda/lib/python3.7/site-packages (from requests->nba-api) (2.8)\n",
      "Requirement already satisfied: chardet<3.1.0,>=3.0.2 in /opt/conda/lib/python3.7/site-packages (from requests->nba-api) (3.0.4)\n",
      "Requirement already satisfied: urllib3!=1.25.0,!=1.25.1,<1.26,>=1.21.1 in /opt/conda/lib/python3.7/site-packages (from requests->nba-api) (1.24.2)\n",
      "Installing collected packages: nba-api\n",
      "Successfully installed nba-api-1.1.5\n",
      "Note: you may need to restart the kernel to use updated packages.\n"
     ]
    }
   ],
   "source": [
    "pip install nba-api"
   ]
  },
  {
   "cell_type": "code",
   "execution_count": 3,
   "metadata": {},
   "outputs": [],
   "source": [
    "from nba_api.stats.endpoints import commonplayerinfo"
   ]
  },
  {
   "cell_type": "code",
   "execution_count": 4,
   "metadata": {},
   "outputs": [
    {
     "data": {
      "text/plain": [
       "<module 'nba_api.stats.endpoints.commonplayerinfo' from '/opt/conda/lib/python3.7/site-packages/nba_api/stats/endpoints/commonplayerinfo.py'>"
      ]
     },
     "execution_count": 4,
     "metadata": {},
     "output_type": "execute_result"
    }
   ],
   "source": [
    "commonplayerinfo"
   ]
  },
  {
   "cell_type": "code",
   "execution_count": 7,
   "metadata": {},
   "outputs": [
    {
     "data": {
      "text/plain": [
       "'{\"resource\":\"commonplayerinfo\",\"parameters\":[{\"PlayerID\":2544},{\"LeagueID\":null}],\"resultSets\":[{\"name\":\"CommonPlayerInfo\",\"headers\":[\"PERSON_ID\",\"FIRST_NAME\",\"LAST_NAME\",\"DISPLAY_FIRST_LAST\",\"DISPLAY_LAST_COMMA_FIRST\",\"DISPLAY_FI_LAST\",\"BIRTHDATE\",\"SCHOOL\",\"COUNTRY\",\"LAST_AFFILIATION\",\"HEIGHT\",\"WEIGHT\",\"SEASON_EXP\",\"JERSEY\",\"POSITION\",\"ROSTERSTATUS\",\"TEAM_ID\",\"TEAM_NAME\",\"TEAM_ABBREVIATION\",\"TEAM_CODE\",\"TEAM_CITY\",\"PLAYERCODE\",\"FROM_YEAR\",\"TO_YEAR\",\"DLEAGUE_FLAG\",\"NBA_FLAG\",\"GAMES_PLAYED_FLAG\",\"DRAFT_YEAR\",\"DRAFT_ROUND\",\"DRAFT_NUMBER\"],\"rowSet\":[[2544,\"LeBron\",\"James\",\"LeBron James\",\"James, LeBron\",\"L. James\",\"1984-12-30T00:00:00\",\"No College\",\"USA\",\"St. Vincent-St. Mary HS (OH)/USA\",\"6-9\",\"250\",16,\"23\",\"Forward\",\"Active\",1610612747,\"Lakers\",\"LAL\",\"lakers\",\"Los Angeles\",\"lebron_james\",2003,2019,\"N\",\"Y\",\"Y\",\"2003\",\"1\",\"1\"]]},{\"name\":\"PlayerHeadlineStats\",\"headers\":[\"PLAYER_ID\",\"PLAYER_NAME\",\"TimeFrame\",\"PTS\",\"AST\",\"REB\",\"PIE\"],\"rowSet\":[[2544,\"LeBron James\",\"2019-20\",25.900000,10.800000,6.800000,0.198]]},{\"name\":\"AvailableSeasons\",\"headers\":[\"SEASON_ID\"],\"rowSet\":[[\"12003\"],[\"22003\"],[\"12004\"],[\"22004\"],[\"32004\"],[\"12005\"],[\"22005\"],[\"32005\"],[\"42005\"],[\"12006\"],[\"22006\"],[\"32006\"],[\"42006\"],[\"12007\"],[\"22007\"],[\"32007\"],[\"42007\"],[\"12008\"],[\"22008\"],[\"32008\"],[\"42008\"],[\"12009\"],[\"22009\"],[\"32009\"],[\"42009\"],[\"12010\"],[\"22010\"],[\"32010\"],[\"42010\"],[\"12011\"],[\"22011\"],[\"32011\"],[\"42011\"],[\"12012\"],[\"22012\"],[\"32012\"],[\"42012\"],[\"12013\"],[\"22013\"],[\"32013\"],[\"42013\"],[\"12014\"],[\"22014\"],[\"32014\"],[\"42014\"],[\"12015\"],[\"22015\"],[\"32015\"],[\"42015\"],[\"12016\"],[\"22016\"],[\"32016\"],[\"42016\"],[\"12017\"],[\"22017\"],[\"32017\"],[\"42017\"],[\"12018\"],[\"22018\"],[\"32018\"],[\"12019\"],[\"22019\"]]}]}'"
      ]
     },
     "execution_count": 7,
     "metadata": {},
     "output_type": "execute_result"
    }
   ],
   "source": [
    "player_info = commonplayerinfo.CommonPlayerInfo(player_id='2544')\n",
    "\n",
    "player_info.get_response()"
   ]
  },
  {
   "cell_type": "code",
   "execution_count": 16,
   "metadata": {},
   "outputs": [],
   "source": [
    "from nba_api.stats.static import teams"
   ]
  },
  {
   "cell_type": "code",
   "execution_count": 17,
   "metadata": {},
   "outputs": [
    {
     "data": {
      "text/plain": [
       "[{'id': 1610612737,\n",
       "  'full_name': 'Atlanta Hawks',\n",
       "  'abbreviation': 'ATL',\n",
       "  'nickname': 'Hawks',\n",
       "  'city': 'Atlanta',\n",
       "  'state': 'Atlanta',\n",
       "  'year_founded': 1949},\n",
       " {'id': 1610612738,\n",
       "  'full_name': 'Boston Celtics',\n",
       "  'abbreviation': 'BOS',\n",
       "  'nickname': 'Celtics',\n",
       "  'city': 'Boston',\n",
       "  'state': 'Massachusetts',\n",
       "  'year_founded': 1946},\n",
       " {'id': 1610612739,\n",
       "  'full_name': 'Cleveland Cavaliers',\n",
       "  'abbreviation': 'CLE',\n",
       "  'nickname': 'Cavaliers',\n",
       "  'city': 'Cleveland',\n",
       "  'state': 'Ohio',\n",
       "  'year_founded': 1970},\n",
       " {'id': 1610612740,\n",
       "  'full_name': 'New Orleans Pelicans',\n",
       "  'abbreviation': 'NOP',\n",
       "  'nickname': 'Pelicans',\n",
       "  'city': 'New Orleans',\n",
       "  'state': 'Louisiana',\n",
       "  'year_founded': 2002},\n",
       " {'id': 1610612741,\n",
       "  'full_name': 'Chicago Bulls',\n",
       "  'abbreviation': 'CHI',\n",
       "  'nickname': 'Bulls',\n",
       "  'city': 'Chicago',\n",
       "  'state': 'Illinois',\n",
       "  'year_founded': 1966},\n",
       " {'id': 1610612742,\n",
       "  'full_name': 'Dallas Mavericks',\n",
       "  'abbreviation': 'DAL',\n",
       "  'nickname': 'Mavericks',\n",
       "  'city': 'Dallas',\n",
       "  'state': 'Texas',\n",
       "  'year_founded': 1980},\n",
       " {'id': 1610612743,\n",
       "  'full_name': 'Denver Nuggets',\n",
       "  'abbreviation': 'DEN',\n",
       "  'nickname': 'Nuggets',\n",
       "  'city': 'Denver',\n",
       "  'state': 'Colorado',\n",
       "  'year_founded': 1976},\n",
       " {'id': 1610612744,\n",
       "  'full_name': 'Golden State Warriors',\n",
       "  'abbreviation': 'GSW',\n",
       "  'nickname': 'Warriors',\n",
       "  'city': 'Golden State',\n",
       "  'state': 'California',\n",
       "  'year_founded': 1946},\n",
       " {'id': 1610612745,\n",
       "  'full_name': 'Houston Rockets',\n",
       "  'abbreviation': 'HOU',\n",
       "  'nickname': 'Rockets',\n",
       "  'city': 'Houston',\n",
       "  'state': 'Texas',\n",
       "  'year_founded': 1967},\n",
       " {'id': 1610612746,\n",
       "  'full_name': 'Los Angeles Clippers',\n",
       "  'abbreviation': 'LAC',\n",
       "  'nickname': 'Clippers',\n",
       "  'city': 'Los Angeles',\n",
       "  'state': 'California',\n",
       "  'year_founded': 1970},\n",
       " {'id': 1610612747,\n",
       "  'full_name': 'Los Angeles Lakers',\n",
       "  'abbreviation': 'LAL',\n",
       "  'nickname': 'Lakers',\n",
       "  'city': 'Los Angeles',\n",
       "  'state': 'California',\n",
       "  'year_founded': 1948},\n",
       " {'id': 1610612748,\n",
       "  'full_name': 'Miami Heat',\n",
       "  'abbreviation': 'MIA',\n",
       "  'nickname': 'Heat',\n",
       "  'city': 'Miami',\n",
       "  'state': 'Florida',\n",
       "  'year_founded': 1988},\n",
       " {'id': 1610612749,\n",
       "  'full_name': 'Milwaukee Bucks',\n",
       "  'abbreviation': 'MIL',\n",
       "  'nickname': 'Bucks',\n",
       "  'city': 'Milwaukee',\n",
       "  'state': 'Wisconsin',\n",
       "  'year_founded': 1968},\n",
       " {'id': 1610612750,\n",
       "  'full_name': 'Minnesota Timberwolves',\n",
       "  'abbreviation': 'MIN',\n",
       "  'nickname': 'Timberwolves',\n",
       "  'city': 'Minnesota',\n",
       "  'state': 'Minnesota',\n",
       "  'year_founded': 1989},\n",
       " {'id': 1610612751,\n",
       "  'full_name': 'Brooklyn Nets',\n",
       "  'abbreviation': 'BKN',\n",
       "  'nickname': 'Nets',\n",
       "  'city': 'Brooklyn',\n",
       "  'state': 'New York',\n",
       "  'year_founded': 1976},\n",
       " {'id': 1610612752,\n",
       "  'full_name': 'New York Knicks',\n",
       "  'abbreviation': 'NYK',\n",
       "  'nickname': 'Knicks',\n",
       "  'city': 'New York',\n",
       "  'state': 'New York',\n",
       "  'year_founded': 1946},\n",
       " {'id': 1610612753,\n",
       "  'full_name': 'Orlando Magic',\n",
       "  'abbreviation': 'ORL',\n",
       "  'nickname': 'Magic',\n",
       "  'city': 'Orlando',\n",
       "  'state': 'Florida',\n",
       "  'year_founded': 1989},\n",
       " {'id': 1610612754,\n",
       "  'full_name': 'Indiana Pacers',\n",
       "  'abbreviation': 'IND',\n",
       "  'nickname': 'Pacers',\n",
       "  'city': 'Indiana',\n",
       "  'state': 'Indiana',\n",
       "  'year_founded': 1976},\n",
       " {'id': 1610612755,\n",
       "  'full_name': 'Philadelphia 76ers',\n",
       "  'abbreviation': 'PHI',\n",
       "  'nickname': '76ers',\n",
       "  'city': 'Philadelphia',\n",
       "  'state': 'Pennsylvania',\n",
       "  'year_founded': 1949},\n",
       " {'id': 1610612756,\n",
       "  'full_name': 'Phoenix Suns',\n",
       "  'abbreviation': 'PHX',\n",
       "  'nickname': 'Suns',\n",
       "  'city': 'Phoenix',\n",
       "  'state': 'Arizona',\n",
       "  'year_founded': 1968},\n",
       " {'id': 1610612757,\n",
       "  'full_name': 'Portland Trail Blazers',\n",
       "  'abbreviation': 'POR',\n",
       "  'nickname': 'Trail Blazers',\n",
       "  'city': 'Portland',\n",
       "  'state': 'Oregon',\n",
       "  'year_founded': 1970},\n",
       " {'id': 1610612758,\n",
       "  'full_name': 'Sacramento Kings',\n",
       "  'abbreviation': 'SAC',\n",
       "  'nickname': 'Kings',\n",
       "  'city': 'Sacramento',\n",
       "  'state': 'California',\n",
       "  'year_founded': 1948},\n",
       " {'id': 1610612759,\n",
       "  'full_name': 'San Antonio Spurs',\n",
       "  'abbreviation': 'SAS',\n",
       "  'nickname': 'Spurs',\n",
       "  'city': 'San Antonio',\n",
       "  'state': 'Texas',\n",
       "  'year_founded': 1976},\n",
       " {'id': 1610612760,\n",
       "  'full_name': 'Oklahoma City Thunder',\n",
       "  'abbreviation': 'OKC',\n",
       "  'nickname': 'Thunder',\n",
       "  'city': 'Oklahoma City',\n",
       "  'state': 'Oklahoma',\n",
       "  'year_founded': 1967},\n",
       " {'id': 1610612761,\n",
       "  'full_name': 'Toronto Raptors',\n",
       "  'abbreviation': 'TOR',\n",
       "  'nickname': 'Raptors',\n",
       "  'city': 'Toronto',\n",
       "  'state': 'Ontario',\n",
       "  'year_founded': 1995},\n",
       " {'id': 1610612762,\n",
       "  'full_name': 'Utah Jazz',\n",
       "  'abbreviation': 'UTA',\n",
       "  'nickname': 'Jazz',\n",
       "  'city': 'Utah',\n",
       "  'state': 'Utah',\n",
       "  'year_founded': 1974},\n",
       " {'id': 1610612763,\n",
       "  'full_name': 'Memphis Grizzlies',\n",
       "  'abbreviation': 'MEM',\n",
       "  'nickname': 'Grizzlies',\n",
       "  'city': 'Memphis',\n",
       "  'state': 'Tennessee',\n",
       "  'year_founded': 1995},\n",
       " {'id': 1610612764,\n",
       "  'full_name': 'Washington Wizards',\n",
       "  'abbreviation': 'WAS',\n",
       "  'nickname': 'Wizards',\n",
       "  'city': 'Washington',\n",
       "  'state': 'District of Columbia',\n",
       "  'year_founded': 1961},\n",
       " {'id': 1610612765,\n",
       "  'full_name': 'Detroit Pistons',\n",
       "  'abbreviation': 'DET',\n",
       "  'nickname': 'Pistons',\n",
       "  'city': 'Detroit',\n",
       "  'state': 'Michigan',\n",
       "  'year_founded': 1948},\n",
       " {'id': 1610612766,\n",
       "  'full_name': 'Charlotte Hornets',\n",
       "  'abbreviation': 'CHA',\n",
       "  'nickname': 'Hornets',\n",
       "  'city': 'Charlotte',\n",
       "  'state': 'North Carolina',\n",
       "  'year_founded': 1988}]"
      ]
     },
     "execution_count": 17,
     "metadata": {},
     "output_type": "execute_result"
    }
   ],
   "source": [
    "teams.get_teams()"
   ]
  },
  {
   "cell_type": "code",
   "execution_count": 20,
   "metadata": {},
   "outputs": [
    {
     "data": {
      "text/plain": [
       "[{'id': 1610612739,\n",
       "  'full_name': 'Cleveland Cavaliers',\n",
       "  'abbreviation': 'CLE',\n",
       "  'nickname': 'Cavaliers',\n",
       "  'city': 'Cleveland',\n",
       "  'state': 'Ohio',\n",
       "  'year_founded': 1970}]"
      ]
     },
     "execution_count": 20,
     "metadata": {},
     "output_type": "execute_result"
    }
   ],
   "source": [
    "teams.find_teams_by_full_name('cav')"
   ]
  },
  {
   "cell_type": "code",
   "execution_count": null,
   "metadata": {},
   "outputs": [],
   "source": []
  }
 ],
 "metadata": {
  "kernelspec": {
   "display_name": "Python 3",
   "language": "python",
   "name": "python3"
  },
  "language_info": {
   "codemirror_mode": {
    "name": "ipython",
    "version": 3
   },
   "file_extension": ".py",
   "mimetype": "text/x-python",
   "name": "python",
   "nbconvert_exporter": "python",
   "pygments_lexer": "ipython3",
   "version": "3.7.3"
  }
 },
 "nbformat": 4,
 "nbformat_minor": 2
}
