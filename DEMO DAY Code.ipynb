{
 "cells": [
  {
   "cell_type": "code",
   "execution_count": 3,
   "metadata": {},
   "outputs": [],
   "source": [
    "Part 1\n",
    "\n",
    "import requests #package 1\n",
    "import json #package 2\n",
    "import matplotlib.pyplot as plt #package 3\n",
    "import numpy #package 4\n",
    "\n",
    "headers = {\n",
    "    \"x-rapidapi-host\": \"api-nba-v1.p.rapidapi.com\",\n",
    "    \"x-rapidapi-key\": \"61ec54c2e9msh0578e0c47cbfd23p1259fcjsnd75b76f6144c\"\n",
    "    }\n",
    "\n",
    "r = requests.get(\"https://api-nba-v1.p.rapidapi.com/players/lastName/tatum\", headers=headers) #first request uses player ID"
   ]
  },
  {
   "cell_type": "code",
   "execution_count": 4,
   "metadata": {},
   "outputs": [],
   "source": [
    "Part 2\n",
    "\n",
    "player = r.json() #deserialize into a python object\n",
    "playerId = player[\"api\"][\"players\"][0][\"playerId\"]"
   ]
  },
  {
   "cell_type": "code",
   "execution_count": 5,
   "metadata": {},
   "outputs": [
    {
     "name": "stdout",
     "output_type": "stream",
     "text": [
      "882\n"
     ]
    }
   ],
   "source": [
    "Part 3\n",
    "\n",
    "tatum = r.json() #deserialize into a python object\n",
    "print(player[\"api\"][\"players\"][0][\"playerId\"])\n",
    "playerId = player[\"api\"][\"players\"][0][\"playerId\"]"
   ]
  },
  {
   "cell_type": "code",
   "execution_count": 6,
   "metadata": {},
   "outputs": [],
   "source": [
    "Part 4\n",
    "\n",
    "r = requests.get(\"https://api-nba-v1.p.rapidapi.com/statistics/players/playerId/\" + str(playerId), headers=headers) #second requests get the statistics for the player\n"
   ]
  },
  {
   "cell_type": "code",
   "execution_count": 7,
   "metadata": {},
   "outputs": [
    {
     "name": "stdout",
     "output_type": "stream",
     "text": [
      "Average Points Per Game: 15.875\n"
     ]
    },
    {
     "data": {
      "image/png": "[encoded data removed]",
      "text/plain": [
       "<Figure size 432x288 with 1 Axes>"
      ]
     },
     "metadata": {
      "needs_background": "light"
     },
     "output_type": "display_data"
    }
   ],
   "source": [
    "Part 5\n",
    "\n",
    "tatumRecentGames = r.json()[\"api\"][\"statistics\"] \n",
    "points = []\n",
    "for i in range(10):\n",
    "  point = tatumRecentGames[i][\"points\"]\n",
    "  if point != \"\":\n",
    "    points.append(int(tatumRecentGames[i][\"points\"]))\n",
    "\n",
    "plt.plot(points, marker='o')\n",
    "plt.grid()\n",
    "print(\"Average Points Per Game: \" + str(sum(points) / len(points)))"
   ]
  },
  {
   "cell_type": "code",
   "execution_count": 8,
   "metadata": {},
   "outputs": [
    {
     "name": "stdout",
     "output_type": "stream",
     "text": [
      "{'gameId': '4304', 'teamId': '2', 'points': '23', 'pos': 'F', 'min': '31:42', 'fgm': '10', 'fga': '18', 'fgp': '55.6', 'ftm': '2', 'fta': '2', 'ftp': '100', 'tpm': '1', 'tpa': '3', 'tpp': '33.3', 'offReb': '2', 'defReb': '8', 'totReb': '10', 'assists': '2', 'pFouls': '1', 'steals': '1', 'turnovers': '2', 'blocks': '0', 'plusMinus': '-11', 'playerId': '882'}\n"
     ]
    }
   ],
   "source": [
    "Part 6\n",
    "\n",
    "print(tatumRecentGames[1])"
   ]
  },
  {
   "cell_type": "code",
   "execution_count": null,
   "metadata": {},
   "outputs": [],
   "source": []
  }
 ],
 "metadata": {
  "kernelspec": {
   "display_name": "Python 3",
   "language": "python",
   "name": "python3"
  },
  "language_info": {
   "codemirror_mode": {
    "name": "ipython",
    "version": 3
   },
   "file_extension": ".py",
   "mimetype": "text/x-python",
   "name": "python",
   "nbconvert_exporter": "python",
   "pygments_lexer": "ipython3",
   "version": "3.7.3"
  }
 },
 "nbformat": 4,
 "nbformat_minor": 2
}
