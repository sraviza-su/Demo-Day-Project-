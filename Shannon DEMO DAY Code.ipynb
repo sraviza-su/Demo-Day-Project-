{
 "cells": [
  {
   "cell_type": "code",
   "execution_count": 1,
   "metadata": {},
   "outputs": [
    {
     "ename": "SyntaxError",
     "evalue": "invalid syntax (<ipython-input-1-859ec5265734>, line 1)",
     "output_type": "error",
     "traceback": [
      "\u001b[0;36m  File \u001b[0;32m\"<ipython-input-1-859ec5265734>\"\u001b[0;36m, line \u001b[0;32m1\u001b[0m\n\u001b[0;31m    Part 1\u001b[0m\n\u001b[0m         ^\u001b[0m\n\u001b[0;31mSyntaxError\u001b[0m\u001b[0;31m:\u001b[0m invalid syntax\n"
     ]
    }
   ],
   "source": [
    "Part 1\n",
    "\n",
    "import requests #package 1\n",
    "import json #package 2\n",
    "import matplotlib.pyplot as plt #package 3\n",
    "import numpy #package 4\n",
    "\n",
    "headers = {\n",
    "    \"x-rapidapi-host\": \"api-nba-v1.p.rapidapi.com\",\n",
    "    \"x-rapidapi-key\": \"\"\n",
    "    }\n",
    "\n",
    "r = requests.get(\"https://api-nba-v1.p.rapidapi.com/players/lastName/tatum\", headers=headers) #first request uses player ID"
   ]
  },
  {
   "cell_type": "code",
   "execution_count": 2,
   "metadata": {},
   "outputs": [
    {
     "ename": "SyntaxError",
     "evalue": "invalid syntax (<ipython-input-2-ece51003e65d>, line 1)",
     "output_type": "error",
     "traceback": [
      "\u001b[0;36m  File \u001b[0;32m\"<ipython-input-2-ece51003e65d>\"\u001b[0;36m, line \u001b[0;32m1\u001b[0m\n\u001b[0;31m    Part 2\u001b[0m\n\u001b[0m         ^\u001b[0m\n\u001b[0;31mSyntaxError\u001b[0m\u001b[0;31m:\u001b[0m invalid syntax\n"
     ]
    }
   ],
   "source": [
    "Part 2\n",
    "\n",
    "player = r.json() #deserialize into a python object\n",
    "playerId = player[\"api\"][\"players\"][0][\"playerId\"]"
   ]
  },
  {
   "cell_type": "code",
   "execution_count": 3,
   "metadata": {},
   "outputs": [
    {
     "ename": "SyntaxError",
     "evalue": "invalid syntax (<ipython-input-3-9ab0952b8f56>, line 1)",
     "output_type": "error",
     "traceback": [
      "\u001b[0;36m  File \u001b[0;32m\"<ipython-input-3-9ab0952b8f56>\"\u001b[0;36m, line \u001b[0;32m1\u001b[0m\n\u001b[0;31m    Part 3\u001b[0m\n\u001b[0m         ^\u001b[0m\n\u001b[0;31mSyntaxError\u001b[0m\u001b[0;31m:\u001b[0m invalid syntax\n"
     ]
    }
   ],
   "source": [
    "Part 3\n",
    "\n",
    "tatum = r.json() #deserialize into a python object\n",
    "print(player[\"api\"][\"players\"][0][\"playerId\"])\n",
    "playerId = player[\"api\"][\"players\"][0][\"playerId\"]"
   ]
  },
  {
   "cell_type": "code",
   "execution_count": 4,
   "metadata": {},
   "outputs": [
    {
     "ename": "SyntaxError",
     "evalue": "invalid syntax (<ipython-input-4-ba1a146deda1>, line 1)",
     "output_type": "error",
     "traceback": [
      "\u001b[0;36m  File \u001b[0;32m\"<ipython-input-4-ba1a146deda1>\"\u001b[0;36m, line \u001b[0;32m1\u001b[0m\n\u001b[0;31m    Part 4\u001b[0m\n\u001b[0m         ^\u001b[0m\n\u001b[0;31mSyntaxError\u001b[0m\u001b[0;31m:\u001b[0m invalid syntax\n"
     ]
    }
   ],
   "source": [
    "Part 4\n",
    "\n",
    "r = requests.get(\"https://api-nba-v1.p.rapidapi.com/statistics/players/playerId/\" + str(playerId), headers=headers) #second requests get the statistics for the player\n"
   ]
  },
  {
   "cell_type": "code",
   "execution_count": 5,
   "metadata": {},
   "outputs": [
    {
     "ename": "SyntaxError",
     "evalue": "invalid syntax (<ipython-input-5-3046a3849f43>, line 1)",
     "output_type": "error",
     "traceback": [
      "\u001b[0;36m  File \u001b[0;32m\"<ipython-input-5-3046a3849f43>\"\u001b[0;36m, line \u001b[0;32m1\u001b[0m\n\u001b[0;31m    Part 5\u001b[0m\n\u001b[0m         ^\u001b[0m\n\u001b[0;31mSyntaxError\u001b[0m\u001b[0;31m:\u001b[0m invalid syntax\n"
     ]
    }
   ],
   "source": [
    "Part 5\n",
    "\n",
    "tatumRecentGames = r.json()[\"api\"][\"statistics\"] \n",
    "points = []\n",
    "for i in range(10):\n",
    "  point = tatumRecentGames[i][\"points\"]\n",
    "  if point != \"\":\n",
    "    points.append(int(tatumRecentGames[i][\"points\"]))\n",
    "\n",
    "plt.plot(points, marker='o')\n",
    "plt.grid()\n",
    "print(\"Average Points Per Game: \" + str(sum(points) / len(points)))"
   ]
  },
  {
   "cell_type": "code",
   "execution_count": 6,
   "metadata": {},
   "outputs": [
    {
     "ename": "SyntaxError",
     "evalue": "invalid syntax (<ipython-input-6-fc229a51bfd7>, line 1)",
     "output_type": "error",
     "traceback": [
      "\u001b[0;36m  File \u001b[0;32m\"<ipython-input-6-fc229a51bfd7>\"\u001b[0;36m, line \u001b[0;32m1\u001b[0m\n\u001b[0;31m    Part 6\u001b[0m\n\u001b[0m         ^\u001b[0m\n\u001b[0;31mSyntaxError\u001b[0m\u001b[0;31m:\u001b[0m invalid syntax\n"
     ]
    }
   ],
   "source": [
    "Part 6\n",
    "\n",
    "print(tatumRecentGames[1])"
   ]
  },
  {
   "cell_type": "code",
   "execution_count": null,
   "metadata": {},
   "outputs": [],
   "source": []
  },
  {
   "cell_type": "code",
   "execution_count": null,
   "metadata": {},
   "outputs": [],
   "source": []
  }
 ],
 "metadata": {
  "kernelspec": {
   "display_name": "Python 3",
   "language": "python",
   "name": "python3"
  },
  "language_info": {
   "codemirror_mode": {
    "name": "ipython",
    "version": 3
   },
   "file_extension": ".py",
   "mimetype": "text/x-python",
   "name": "python",
   "nbconvert_exporter": "python",
   "pygments_lexer": "ipython3",
   "version": "3.7.6"
  }
 },
 "nbformat": 4,
 "nbformat_minor": 2
}
