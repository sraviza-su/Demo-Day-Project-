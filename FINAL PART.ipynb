{
 "cells": [
  {
   "cell_type": "code",
   "execution_count": 3,
   "metadata": {},
   "outputs": [
    {
     "name": "stdout",
     "output_type": "stream",
     "text": [
      "Enter the last name of the desired player: tatum\n",
      "{'api': {'status': 200, 'message': 'GET players/lastName/tatum', 'results': 1, 'filters': ['playerId', 'teamId', 'league', 'country', 'lastName', 'firstName'], 'players': [{'firstName': 'Jayson', 'lastName': 'Tatum', 'teamId': '2', 'yearsPro': '2', 'collegeName': 'Duke', 'country': 'USA', 'playerId': '882', 'dateOfBirth': '1998-03-03', 'affiliation': 'Duke/USA', 'startNba': '2017', 'heightInMeters': '2.03', 'weightInKilograms': '95.3', 'leagues': {'standard': {'jersey': '0', 'active': '1', 'pos': 'F-G'}}}]}}\n"
     ]
    }
   ],
   "source": [
    "import requests\n",
    "import json\n",
    "import matplotlib.pyplot as plt\n",
    "\n",
    "headers = {\n",
    "\t\"x-rapidapi-host\": \"api-nba-v1.p.rapidapi.com\",\n",
    "\t\"x-rapidapi-key\": \"61ec54c2e9msh0578e0c47cbfd23p1259fcjsnd75b76f6144c\"\n",
    "}\n",
    "\n",
    "playerLastName = input(\"Enter the last name of the desired player: \") \n",
    "\n",
    "playerInfo = requests.get(\"https://api-nba-v1.p.rapidapi.com/players/lastName/\"+playerLastName, headers=headers).json()\n",
    "\n",
    "while playerInfo[\"api\"][\"results\"] == 0:\n",
    "\tplayerLastName = input(\"Enter a valid last name: \") \n",
    "\tplayerInfo = requests.get(\"https://api-nba-v1.p.rapidapi.com/players/lastName/\"+playerLastName, headers=headers).json()\n",
    "\n",
    "print(playerInfo)"
   ]
  },
  {
   "cell_type": "code",
   "execution_count": 4,
   "metadata": {},
   "outputs": [],
   "source": [
    "playerId = playerInfo[\"api\"][\"players\"][0][\"playerId\"]"
   ]
  },
  {
   "cell_type": "code",
   "execution_count": 5,
   "metadata": {},
   "outputs": [],
   "source": [
    "playerStats = requests.get(\"https://api-nba-v1.p.rapidapi.com/statistics/players/playerId/\" + str(playerId), headers=headers)\n"
   ]
  },
  {
   "cell_type": "code",
   "execution_count": 10,
   "metadata": {},
   "outputs": [
    {
     "name": "stdout",
     "output_type": "stream",
     "text": [
      "Enter the last name of the desired player: james\n",
      "Enter the desired statistic: offReb\n",
      "Enter the desired number of games: 4\n",
      "Average offReb Per Game: 0.75\n"
     ]
    },
    {
     "data": {
      "image/png": "[encoded data removed]",
      "text/plain": [
       "<Figure size 432x288 with 1 Axes>"
      ]
     },
     "metadata": {
      "needs_background": "light"
     },
     "output_type": "display_data"
    }
   ],
   "source": [
    "recentGames = playerStats.json()[\"api\"][\"statistics\"] \n",
    "points = []\n",
    "\n",
    "stats = ['points', 'pos', 'min', 'fgm', 'fga', 'fgp', 'ftm', 'fta', 'ftp', 'tpm', 'tpa', 'tpp', 'offReb', 'defReb', 'totReb', 'assists', 'pFouls', 'steals', 'turnovers', 'blocks', 'plusMinus']\n",
    "\n",
    "\n",
    "playerLastName = input(\"Enter the last name of the desired player: \") \n",
    "desiredStat = input(\"Enter the desired statistic: \")\n",
    "while desiredStat not in stats:\n",
    "  desiredStat = input(\"Invalid statistic, reselect: \")\n",
    "\n",
    "numberOfGames = input(\"Enter the desired number of games: \")\n",
    "while numberOfGames.isdigit() and int(numberOfGames) < 1:\n",
    "  numberOfGames = input(\"Number of games must be positive integer, re-enter:\")\n",
    "\n",
    "numberOfGames = int(numberOfGames)\n",
    "\n",
    "for i in range(numberOfGames):\n",
    "  point = recentGames[i][desiredStat]\n",
    "  if point != \"\":\n",
    "    points.append(int(recentGames[i][desiredStat]))\n",
    "\n",
    "plt.plot(points, marker='o')\n",
    "plt.grid()\n",
    "print(\"Average \"+ desiredStat +\" Per Game: \" + str(sum(points) / len(points))) "
   ]
  },
  {
   "cell_type": "code",
   "execution_count": null,
   "metadata": {},
   "outputs": [],
   "source": []
  },
  {
   "cell_type": "code",
   "execution_count": null,
   "metadata": {},
   "outputs": [],
   "source": []
  }
 ],
 "metadata": {
  "kernelspec": {
   "display_name": "Python 3",
   "language": "python",
   "name": "python3"
  },
  "language_info": {
   "codemirror_mode": {
    "name": "ipython",
    "version": 3
   },
   "file_extension": ".py",
   "mimetype": "text/x-python",
   "name": "python",
   "nbconvert_exporter": "python",
   "pygments_lexer": "ipython3",
   "version": "3.7.3"
  }
 },
 "nbformat": 4,
 "nbformat_minor": 2
}
